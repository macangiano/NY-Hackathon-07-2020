{
 "cells": [
  {
   "cell_type": "markdown",
   "metadata": {},
   "source": [
    "# Consumer Perception Analysis"
   ]
  },
  {
   "cell_type": "markdown",
   "metadata": {
    "toc": true
   },
   "source": [
    "<h1>Table of Contents<span class=\"tocSkip\"></span></h1>\n",
    "<div class=\"toc\"><ul class=\"toc-item\"><li><span><a href=\"#Problem-Statement\" data-toc-modified-id=\"Problem-Statement-1\">Problem Statement</a></span></li><li><span><a href=\"#Executive-Summary\" data-toc-modified-id=\"Executive-Summary-2\">Executive Summary</a></span></li><li><span><a href=\"#Importing-Libraries\" data-toc-modified-id=\"Importing-Libraries-3\">Importing Libraries</a></span></li><li><span><a href=\"#Data-Cleaning\" data-toc-modified-id=\"Data-Cleaning-4\">Data Cleaning</a></span><ul class=\"toc-item\"><li><span><a href=\"#Renaming-Columns\" data-toc-modified-id=\"Renaming-Columns-4.1\">Renaming Columns</a></span></li><li><span><a href=\"#Correcting-user-input\" data-toc-modified-id=\"Correcting-user-input-4.2\">Correcting user input</a></span></li><li><span><a href=\"#Creating-Dummy-Variables\" data-toc-modified-id=\"Creating-Dummy-Variables-4.3\">Creating Dummy Variables</a></span></li><li><span><a href=\"#Adjusting-Data-Types\" data-toc-modified-id=\"Adjusting-Data-Types-4.4\">Adjusting Data Types</a></span><ul class=\"toc-item\"><li><span><a href=\"#Adjusting-user-preference-based-on-their-selection-of-'All-of-the-Above'-to-Question-8-in-the-survey\" data-toc-modified-id=\"Adjusting-user-preference-based-on-their-selection-of-'All-of-the-Above'-to-Question-8-in-the-survey-4.4.1\">Adjusting user preference based on their selection of 'All of the Above' to Question 8 in the survey</a></span></li></ul></li></ul></li><li><span><a href=\"#EDA\" data-toc-modified-id=\"EDA-5\">EDA</a></span><ul class=\"toc-item\"><li><span><a href=\"#Examining-the-Target-Variable-(How-Likely-One-Would-Attend-an-Event)\" data-toc-modified-id=\"Examining-the-Target-Variable-(How-Likely-One-Would-Attend-an-Event)-5.1\">Examining the Target Variable (How Likely One Would Attend an Event)</a></span></li><li><span><a href=\"#Examining-the-Demographics-of-Respondents\" data-toc-modified-id=\"Examining-the-Demographics-of-Respondents-5.2\">Examining the Demographics of Respondents</a></span></li><li><span><a href=\"#Examining-the-Willingness-to-Purchase-Products-at-Live-Events\" data-toc-modified-id=\"Examining-the-Willingness-to-Purchase-Products-at-Live-Events-5.3\">Examining the Willingness to Purchase Products at Live Events</a></span><ul class=\"toc-item\"><li><span><a href=\"#Food-and-Drinks\" data-toc-modified-id=\"Food-and-Drinks-5.3.1\">Food and Drinks</a></span></li><li><span><a href=\"#Merchandise\" data-toc-modified-id=\"Merchandise-5.3.2\">Merchandise</a></span></li></ul></li><li><span><a href=\"#Examining-the-Respondents-View-on-Safety-Protocols\" data-toc-modified-id=\"Examining-the-Respondents-View-on-Safety-Protocols-5.4\">Examining the Respondents View on Safety Protocols</a></span></li><li><span><a href=\"#Looking-at-Correlations\" data-toc-modified-id=\"Looking-at-Correlations-5.5\">Looking at Correlations</a></span><ul class=\"toc-item\"><li><span><a href=\"#Turning-Remaining-Categorical-Values-into-Dummy-Variables\" data-toc-modified-id=\"Turning-Remaining-Categorical-Values-into-Dummy-Variables-5.5.1\">Turning Remaining Categorical Values into Dummy Variables</a></span></li><li><span><a href=\"#Correlation-Table\" data-toc-modified-id=\"Correlation-Table-5.5.2\">Correlation Table</a></span></li></ul></li></ul></li><li><span><a href=\"#Conclusion\" data-toc-modified-id=\"Conclusion-6\">Conclusion</a></span></li><li><span><a href=\"#Recommendations\" data-toc-modified-id=\"Recommendations-7\">Recommendations</a></span></li></ul></div>"
   ]
  },
  {
   "cell_type": "markdown",
   "metadata": {},
   "source": [
    "## Problem Statement\n",
    "\n",
    "Octagon Sports and Entertainment Agency has reached out to our team in an effort to streamline the 'check-in' process when attending live events. They are looking for an application based solution where attendees will be able to enter and navigate through the venue in a contactless fashion.\n",
    "\n",
    "In order to create ways to streamline the 'check-in' process at live events it is important to have an understanding of the consumer perception during the COVID-19 pandemic. \n",
    "\n",
    "The team will create a survey to gather data and analyze it to provide insights to Software Engineers and User Experience Designers which will intern use them to create an application that is tailored to the needs of the consumer and increase not only the willingness of people to attend the events, but also their overall satisfaction when attending. Questions in the survey will also be targeted toward the consumer's perception of safety protocols and the purchasing of products at the venue to determine what key features should be included in the design of the application. "
   ]
  },
  {
   "cell_type": "markdown",
   "metadata": {},
   "source": [
    "## Executive Summary\n",
    "The purpose of this project is to analyze the data gathered through a 10 question survey to provide actionable insights for the Software Engineers and User Experience Designers to develop an application that will streamline the event experience as well as increase consumer satisfaction. \n",
    "\n",
    "Data Collection was the first step in achieving our goal. This was done through the creation of a 10 question survey that would indicate how the public felt about certain aspects of live events. These aspects are: willingness to attend during a pandemic, willingness to purchase products at the venue, and what respondents felt was the most important safety protocol.\n",
    "\n",
    "We used Exploratory Data Analysis (EDA) to identify the underlying features that contributed to a person's willingness to attend. The EDA suggests that there is not enough diversity in the respondents due to our limited ability to distribute the survey in the given time-frame. However, the summary statistics and visualizations were able to shed light on some key features such as employment status and level of education as well as showing us which safety protocols were most important to the respondents.\n",
    "\n",
    "These findings were communicated to the Software Engineers and User Experience Design teams to develop an application that would best attract users.\n"
   ]
  },
  {
   "cell_type": "markdown",
   "metadata": {},
   "source": [
    "## Importing Libraries"
   ]
  },
  {
   "cell_type": "code",
   "execution_count": 1,
   "metadata": {},
   "outputs": [
    {
     "name": "stderr",
     "output_type": "stream",
     "text": [
      "/Users/matteocangiano/opt/anaconda3/envs/dsi/lib/python3.7/site-packages/statsmodels/tools/_testing.py:19: FutureWarning: pandas.util.testing is deprecated. Use the functions in the public API at pandas.testing instead.\n",
      "  import pandas.util.testing as tm\n"
     ]
    }
   ],
   "source": [
    "import pandas as pd\n",
    "import numpy as np\n",
    "import matplotlib.pyplot as plt\n",
    "import seaborn as sns\n",
    "\n",
    "import warnings\n",
    "warnings.filterwarnings('ignore')"
   ]
  },
  {
   "cell_type": "code",
   "execution_count": 2,
   "metadata": {},
   "outputs": [],
   "source": [
    "df = pd.read_csv('SoGoSurvey_Consumer Perception Survey_1.csv')"
   ]
  },
  {
   "cell_type": "markdown",
   "metadata": {},
   "source": [
    "## Data Cleaning"
   ]
  },
  {
   "cell_type": "code",
   "execution_count": 3,
   "metadata": {
    "scrolled": false
   },
   "outputs": [
    {
     "data": {
      "text/html": [
       "<div>\n",
       "<style scoped>\n",
       "    .dataframe tbody tr th:only-of-type {\n",
       "        vertical-align: middle;\n",
       "    }\n",
       "\n",
       "    .dataframe tbody tr th {\n",
       "        vertical-align: top;\n",
       "    }\n",
       "\n",
       "    .dataframe thead th {\n",
       "        text-align: right;\n",
       "    }\n",
       "</style>\n",
       "<table border=\"1\" class=\"dataframe\">\n",
       "  <thead>\n",
       "    <tr style=\"text-align: right;\">\n",
       "      <th></th>\n",
       "      <th>﻿Sr.No.</th>\n",
       "      <th>Response No</th>\n",
       "      <th>1.What is your age?</th>\n",
       "      <th>2.Where do you live?</th>\n",
       "      <th>Unnamed: 4</th>\n",
       "      <th>Unnamed: 5</th>\n",
       "      <th>Unnamed: 6</th>\n",
       "      <th>3.In what state do you reside?</th>\n",
       "      <th>4.How many people live with you?</th>\n",
       "      <th>5.What is your employment status?</th>\n",
       "      <th>...</th>\n",
       "      <th>7.How likely are you to attend live events that follow strict safety regulations pertaining to COVID-19? (Masks required, Social distancing, Outdoors, etc.)</th>\n",
       "      <th>8.What is the most important safety regulation for you to attend live events?</th>\n",
       "      <th>Unnamed: 13</th>\n",
       "      <th>Unnamed: 14</th>\n",
       "      <th>Unnamed: 15</th>\n",
       "      <th>Unnamed: 16</th>\n",
       "      <th>Unnamed: 17</th>\n",
       "      <th>Unnamed: 18</th>\n",
       "      <th>9.If you were to go to a live event, how comfortable are you buying food and drinks?</th>\n",
       "      <th>10.If you were to attend a live event, how likely are you to buy merchandise? (not including food &amp; drink)</th>\n",
       "    </tr>\n",
       "  </thead>\n",
       "  <tbody>\n",
       "    <tr>\n",
       "      <th>NaN</th>\n",
       "      <td>NaN</td>\n",
       "      <td></td>\n",
       "      <td>City</td>\n",
       "      <td>Outskirts</td>\n",
       "      <td>Countryside</td>\n",
       "      <td>Other</td>\n",
       "      <td></td>\n",
       "      <td></td>\n",
       "      <td></td>\n",
       "      <td></td>\n",
       "      <td>...</td>\n",
       "      <td>Mask</td>\n",
       "      <td>Social Distancing (6ft.)</td>\n",
       "      <td>Outdoors</td>\n",
       "      <td>Hand Sanitizing Stations</td>\n",
       "      <td>Gloves</td>\n",
       "      <td>All of the Above</td>\n",
       "      <td>None of the Above</td>\n",
       "      <td></td>\n",
       "      <td></td>\n",
       "      <td>NaN</td>\n",
       "    </tr>\n",
       "    <tr>\n",
       "      <th>1.0</th>\n",
       "      <td>1.0</td>\n",
       "      <td>25</td>\n",
       "      <td>City</td>\n",
       "      <td>NaN</td>\n",
       "      <td>NaN</td>\n",
       "      <td>NaN</td>\n",
       "      <td>NY</td>\n",
       "      <td>0</td>\n",
       "      <td>Student</td>\n",
       "      <td>College</td>\n",
       "      <td>...</td>\n",
       "      <td>Mask</td>\n",
       "      <td>Social Distancing (6ft.)</td>\n",
       "      <td>Outdoors</td>\n",
       "      <td>Hand Sanitizing Stations</td>\n",
       "      <td>NaN</td>\n",
       "      <td>NaN</td>\n",
       "      <td>NaN</td>\n",
       "      <td>3</td>\n",
       "      <td>2</td>\n",
       "      <td>NaN</td>\n",
       "    </tr>\n",
       "    <tr>\n",
       "      <th>2.0</th>\n",
       "      <td>2.0</td>\n",
       "      <td>22</td>\n",
       "      <td>City</td>\n",
       "      <td>NaN</td>\n",
       "      <td>NaN</td>\n",
       "      <td>NaN</td>\n",
       "      <td>NY</td>\n",
       "      <td>2</td>\n",
       "      <td>Employed</td>\n",
       "      <td>College</td>\n",
       "      <td>...</td>\n",
       "      <td>NaN</td>\n",
       "      <td>NaN</td>\n",
       "      <td>NaN</td>\n",
       "      <td>NaN</td>\n",
       "      <td>NaN</td>\n",
       "      <td>All of the Above</td>\n",
       "      <td>NaN</td>\n",
       "      <td>3</td>\n",
       "      <td>1</td>\n",
       "      <td>NaN</td>\n",
       "    </tr>\n",
       "    <tr>\n",
       "      <th>3.0</th>\n",
       "      <td>3.0</td>\n",
       "      <td>61</td>\n",
       "      <td>City</td>\n",
       "      <td>NaN</td>\n",
       "      <td>NaN</td>\n",
       "      <td>NaN</td>\n",
       "      <td>NY</td>\n",
       "      <td>1</td>\n",
       "      <td>Employed</td>\n",
       "      <td>Masters</td>\n",
       "      <td>...</td>\n",
       "      <td>NaN</td>\n",
       "      <td>NaN</td>\n",
       "      <td>NaN</td>\n",
       "      <td>NaN</td>\n",
       "      <td>NaN</td>\n",
       "      <td>All of the Above</td>\n",
       "      <td>NaN</td>\n",
       "      <td>0</td>\n",
       "      <td>0</td>\n",
       "      <td>NaN</td>\n",
       "    </tr>\n",
       "    <tr>\n",
       "      <th>4.0</th>\n",
       "      <td>4.0</td>\n",
       "      <td>28</td>\n",
       "      <td>City</td>\n",
       "      <td>NaN</td>\n",
       "      <td>NaN</td>\n",
       "      <td>NaN</td>\n",
       "      <td>NY</td>\n",
       "      <td>2</td>\n",
       "      <td>Employed</td>\n",
       "      <td>College</td>\n",
       "      <td>...</td>\n",
       "      <td>NaN</td>\n",
       "      <td>NaN</td>\n",
       "      <td>NaN</td>\n",
       "      <td>NaN</td>\n",
       "      <td>NaN</td>\n",
       "      <td>All of the Above</td>\n",
       "      <td>NaN</td>\n",
       "      <td>4</td>\n",
       "      <td>4</td>\n",
       "      <td>NaN</td>\n",
       "    </tr>\n",
       "  </tbody>\n",
       "</table>\n",
       "<p>5 rows × 21 columns</p>\n",
       "</div>"
      ],
      "text/plain": [
       "     ﻿Sr.No. Response No 1.What is your age? 2.Where do you live?  \\\n",
       "NaN      NaN                            City            Outskirts   \n",
       "1.0      1.0          25                City                  NaN   \n",
       "2.0      2.0          22                City                  NaN   \n",
       "3.0      3.0          61                City                  NaN   \n",
       "4.0      4.0          28                City                  NaN   \n",
       "\n",
       "      Unnamed: 4 Unnamed: 5 Unnamed: 6 3.In what state do you reside?  \\\n",
       "NaN  Countryside      Other                                             \n",
       "1.0          NaN        NaN         NY                              0   \n",
       "2.0          NaN        NaN         NY                              2   \n",
       "3.0          NaN        NaN         NY                              1   \n",
       "4.0          NaN        NaN         NY                              2   \n",
       "\n",
       "    4.How many people live with you? 5.What is your employment status?  ...  \\\n",
       "NaN                                                                     ...   \n",
       "1.0                          Student                           College  ...   \n",
       "2.0                         Employed                           College  ...   \n",
       "3.0                         Employed                           Masters  ...   \n",
       "4.0                         Employed                           College  ...   \n",
       "\n",
       "    7.How likely are you to attend live events that follow strict safety regulations pertaining to COVID-19? (Masks required, Social distancing, Outdoors, etc.)  \\\n",
       "NaN                                               Mask                                                                                                             \n",
       "1.0                                               Mask                                                                                                             \n",
       "2.0                                                NaN                                                                                                             \n",
       "3.0                                                NaN                                                                                                             \n",
       "4.0                                                NaN                                                                                                             \n",
       "\n",
       "    8.What is the most important safety regulation for you to attend live events?  \\\n",
       "NaN                           Social Distancing (6ft.)                              \n",
       "1.0                           Social Distancing (6ft.)                              \n",
       "2.0                                                NaN                              \n",
       "3.0                                                NaN                              \n",
       "4.0                                                NaN                              \n",
       "\n",
       "    Unnamed: 13               Unnamed: 14 Unnamed: 15       Unnamed: 16  \\\n",
       "NaN    Outdoors  Hand Sanitizing Stations      Gloves  All of the Above   \n",
       "1.0    Outdoors  Hand Sanitizing Stations         NaN               NaN   \n",
       "2.0         NaN                       NaN         NaN  All of the Above   \n",
       "3.0         NaN                       NaN         NaN  All of the Above   \n",
       "4.0         NaN                       NaN         NaN  All of the Above   \n",
       "\n",
       "           Unnamed: 17 Unnamed: 18  \\\n",
       "NaN  None of the Above               \n",
       "1.0                NaN           3   \n",
       "2.0                NaN           3   \n",
       "3.0                NaN           0   \n",
       "4.0                NaN           4   \n",
       "\n",
       "    9.If you were to go to a live event, how comfortable are you buying food and drinks?  \\\n",
       "NaN                                                                                        \n",
       "1.0                                                  2                                     \n",
       "2.0                                                  1                                     \n",
       "3.0                                                  0                                     \n",
       "4.0                                                  4                                     \n",
       "\n",
       "    10.If you were to attend a live event, how likely are you to buy merchandise? (not including food & drink)  \n",
       "NaN                                                NaN                                                          \n",
       "1.0                                                NaN                                                          \n",
       "2.0                                                NaN                                                          \n",
       "3.0                                                NaN                                                          \n",
       "4.0                                                NaN                                                          \n",
       "\n",
       "[5 rows x 21 columns]"
      ]
     },
     "execution_count": 3,
     "metadata": {},
     "output_type": "execute_result"
    }
   ],
   "source": [
    "df.head()"
   ]
  },
  {
   "cell_type": "code",
   "execution_count": 4,
   "metadata": {},
   "outputs": [
    {
     "data": {
      "text/plain": [
       "(71, 21)"
      ]
     },
     "execution_count": 4,
     "metadata": {},
     "output_type": "execute_result"
    }
   ],
   "source": [
    "df.shape"
   ]
  },
  {
   "cell_type": "code",
   "execution_count": 5,
   "metadata": {
    "scrolled": true
   },
   "outputs": [],
   "source": [
    "df = df.reset_index(drop=True)"
   ]
  },
  {
   "cell_type": "code",
   "execution_count": 6,
   "metadata": {},
   "outputs": [],
   "source": [
    "df = df.drop(columns = [df.columns[0], df.columns[-1]])"
   ]
  },
  {
   "cell_type": "markdown",
   "metadata": {},
   "source": [
    "### Renaming Columns"
   ]
  },
  {
   "cell_type": "markdown",
   "metadata": {},
   "source": [
    "The column names are the full questions from the survey. Changing this to simpler names would allow us to have a cleaner DataFrame."
   ]
  },
  {
   "cell_type": "code",
   "execution_count": 7,
   "metadata": {},
   "outputs": [],
   "source": [
    "df.rename(columns = {df.columns[0]: 'age',\n",
    "                     df.columns[1]: '2_city',\n",
    "                     df.columns[2]: '2_outskirts',\n",
    "                     df.columns[3]: '2_countryside',\n",
    "                     df.columns[4]: '2_other',\n",
    "                     df.columns[5]: 'state',\n",
    "                     df.columns[6]: 'people_in_house',\n",
    "                     df.columns[7]: 'emp_stat',\n",
    "                     df.columns[8]: 'edu',\n",
    "                     df.columns[9]: 'how_likely',\n",
    "                     df.columns[10]: '8_mask',\n",
    "                     df.columns[11]: '8_soc_dist',\n",
    "                     df.columns[12]: '8_outdoors',\n",
    "                     df.columns[13]: '8_hand_san',\n",
    "                     df.columns[14]: '8_gloves',\n",
    "                     df.columns[15]: '8_all',\n",
    "                     df.columns[16]: '8_none_above',\n",
    "                     df.columns[17]: 'food_drink',\n",
    "                     df.columns[18]: 'merch'\n",
    "                    }, inplace = True)"
   ]
  },
  {
   "cell_type": "markdown",
   "metadata": {},
   "source": [
    "The first column named 'Sr.No.' does not contain any pertinent information and is thus removed."
   ]
  },
  {
   "cell_type": "code",
   "execution_count": 8,
   "metadata": {},
   "outputs": [],
   "source": [
    "df = df.drop(df.index[0])"
   ]
  },
  {
   "cell_type": "code",
   "execution_count": 9,
   "metadata": {},
   "outputs": [],
   "source": [
    "df = df.reset_index(drop=True)"
   ]
  },
  {
   "cell_type": "code",
   "execution_count": 10,
   "metadata": {},
   "outputs": [
    {
     "data": {
      "text/html": [
       "<div>\n",
       "<style scoped>\n",
       "    .dataframe tbody tr th:only-of-type {\n",
       "        vertical-align: middle;\n",
       "    }\n",
       "\n",
       "    .dataframe tbody tr th {\n",
       "        vertical-align: top;\n",
       "    }\n",
       "\n",
       "    .dataframe thead th {\n",
       "        text-align: right;\n",
       "    }\n",
       "</style>\n",
       "<table border=\"1\" class=\"dataframe\">\n",
       "  <thead>\n",
       "    <tr style=\"text-align: right;\">\n",
       "      <th></th>\n",
       "      <th>age</th>\n",
       "      <th>2_city</th>\n",
       "      <th>2_outskirts</th>\n",
       "      <th>2_countryside</th>\n",
       "      <th>2_other</th>\n",
       "      <th>state</th>\n",
       "      <th>people_in_house</th>\n",
       "      <th>emp_stat</th>\n",
       "      <th>edu</th>\n",
       "      <th>how_likely</th>\n",
       "      <th>8_mask</th>\n",
       "      <th>8_soc_dist</th>\n",
       "      <th>8_outdoors</th>\n",
       "      <th>8_hand_san</th>\n",
       "      <th>8_gloves</th>\n",
       "      <th>8_all</th>\n",
       "      <th>8_none_above</th>\n",
       "      <th>food_drink</th>\n",
       "      <th>merch</th>\n",
       "    </tr>\n",
       "  </thead>\n",
       "  <tbody>\n",
       "    <tr>\n",
       "      <th>0</th>\n",
       "      <td>25</td>\n",
       "      <td>City</td>\n",
       "      <td>NaN</td>\n",
       "      <td>NaN</td>\n",
       "      <td>NaN</td>\n",
       "      <td>NY</td>\n",
       "      <td>0</td>\n",
       "      <td>Student</td>\n",
       "      <td>College</td>\n",
       "      <td>3</td>\n",
       "      <td>Mask</td>\n",
       "      <td>Social Distancing (6ft.)</td>\n",
       "      <td>Outdoors</td>\n",
       "      <td>Hand Sanitizing Stations</td>\n",
       "      <td>NaN</td>\n",
       "      <td>NaN</td>\n",
       "      <td>NaN</td>\n",
       "      <td>3</td>\n",
       "      <td>2</td>\n",
       "    </tr>\n",
       "    <tr>\n",
       "      <th>1</th>\n",
       "      <td>22</td>\n",
       "      <td>City</td>\n",
       "      <td>NaN</td>\n",
       "      <td>NaN</td>\n",
       "      <td>NaN</td>\n",
       "      <td>NY</td>\n",
       "      <td>2</td>\n",
       "      <td>Employed</td>\n",
       "      <td>College</td>\n",
       "      <td>1</td>\n",
       "      <td>NaN</td>\n",
       "      <td>NaN</td>\n",
       "      <td>NaN</td>\n",
       "      <td>NaN</td>\n",
       "      <td>NaN</td>\n",
       "      <td>All of the Above</td>\n",
       "      <td>NaN</td>\n",
       "      <td>3</td>\n",
       "      <td>1</td>\n",
       "    </tr>\n",
       "    <tr>\n",
       "      <th>2</th>\n",
       "      <td>61</td>\n",
       "      <td>City</td>\n",
       "      <td>NaN</td>\n",
       "      <td>NaN</td>\n",
       "      <td>NaN</td>\n",
       "      <td>NY</td>\n",
       "      <td>1</td>\n",
       "      <td>Employed</td>\n",
       "      <td>Masters</td>\n",
       "      <td>0</td>\n",
       "      <td>NaN</td>\n",
       "      <td>NaN</td>\n",
       "      <td>NaN</td>\n",
       "      <td>NaN</td>\n",
       "      <td>NaN</td>\n",
       "      <td>All of the Above</td>\n",
       "      <td>NaN</td>\n",
       "      <td>0</td>\n",
       "      <td>0</td>\n",
       "    </tr>\n",
       "    <tr>\n",
       "      <th>3</th>\n",
       "      <td>28</td>\n",
       "      <td>City</td>\n",
       "      <td>NaN</td>\n",
       "      <td>NaN</td>\n",
       "      <td>NaN</td>\n",
       "      <td>NY</td>\n",
       "      <td>2</td>\n",
       "      <td>Employed</td>\n",
       "      <td>College</td>\n",
       "      <td>4</td>\n",
       "      <td>NaN</td>\n",
       "      <td>NaN</td>\n",
       "      <td>NaN</td>\n",
       "      <td>NaN</td>\n",
       "      <td>NaN</td>\n",
       "      <td>All of the Above</td>\n",
       "      <td>NaN</td>\n",
       "      <td>4</td>\n",
       "      <td>4</td>\n",
       "    </tr>\n",
       "    <tr>\n",
       "      <th>4</th>\n",
       "      <td>27</td>\n",
       "      <td>City</td>\n",
       "      <td>NaN</td>\n",
       "      <td>NaN</td>\n",
       "      <td>NaN</td>\n",
       "      <td>NY</td>\n",
       "      <td>1</td>\n",
       "      <td>Employed</td>\n",
       "      <td>College</td>\n",
       "      <td>3</td>\n",
       "      <td>Mask</td>\n",
       "      <td>NaN</td>\n",
       "      <td>Outdoors</td>\n",
       "      <td>Hand Sanitizing Stations</td>\n",
       "      <td>NaN</td>\n",
       "      <td>NaN</td>\n",
       "      <td>NaN</td>\n",
       "      <td>3</td>\n",
       "      <td>3</td>\n",
       "    </tr>\n",
       "  </tbody>\n",
       "</table>\n",
       "</div>"
      ],
      "text/plain": [
       "  age 2_city 2_outskirts 2_countryside 2_other state people_in_house  \\\n",
       "0  25   City         NaN           NaN     NaN    NY               0   \n",
       "1  22   City         NaN           NaN     NaN    NY               2   \n",
       "2  61   City         NaN           NaN     NaN    NY               1   \n",
       "3  28   City         NaN           NaN     NaN    NY               2   \n",
       "4  27   City         NaN           NaN     NaN    NY               1   \n",
       "\n",
       "   emp_stat      edu how_likely 8_mask                8_soc_dist 8_outdoors  \\\n",
       "0   Student  College          3   Mask  Social Distancing (6ft.)   Outdoors   \n",
       "1  Employed  College          1    NaN                       NaN        NaN   \n",
       "2  Employed  Masters          0    NaN                       NaN        NaN   \n",
       "3  Employed  College          4    NaN                       NaN        NaN   \n",
       "4  Employed  College          3   Mask                       NaN   Outdoors   \n",
       "\n",
       "                 8_hand_san 8_gloves             8_all 8_none_above  \\\n",
       "0  Hand Sanitizing Stations      NaN               NaN          NaN   \n",
       "1                       NaN      NaN  All of the Above          NaN   \n",
       "2                       NaN      NaN  All of the Above          NaN   \n",
       "3                       NaN      NaN  All of the Above          NaN   \n",
       "4  Hand Sanitizing Stations      NaN               NaN          NaN   \n",
       "\n",
       "  food_drink merch  \n",
       "0          3     2  \n",
       "1          3     1  \n",
       "2          0     0  \n",
       "3          4     4  \n",
       "4          3     3  "
      ]
     },
     "execution_count": 10,
     "metadata": {},
     "output_type": "execute_result"
    }
   ],
   "source": [
    "df.head()"
   ]
  },
  {
   "cell_type": "markdown",
   "metadata": {},
   "source": [
    "### Correcting user input"
   ]
  },
  {
   "cell_type": "markdown",
   "metadata": {},
   "source": [
    "User input for the 'age' column could be incorrect due to the 'Enter Text Here' style of answer from the survey. Below we find that one respondent typed out their age rather than providing an integer."
   ]
  },
  {
   "cell_type": "code",
   "execution_count": 11,
   "metadata": {},
   "outputs": [
    {
     "data": {
      "text/plain": [
       "array(['25', '22', '61', '28', '27', '54', '42', '51', '67', '49', '31',\n",
       "       '30', 'Twenty Seven', '35', '69', '52', '60', '40', '75', '55',\n",
       "       '26', '59', '62', '32', '37', '29', '68', '23', '58', '63', '57',\n",
       "       '66', '56', '39', '38', '53', '64'], dtype=object)"
      ]
     },
     "execution_count": 11,
     "metadata": {},
     "output_type": "execute_result"
    }
   ],
   "source": [
    "df['age'].unique()"
   ]
  },
  {
   "cell_type": "code",
   "execution_count": 12,
   "metadata": {},
   "outputs": [
    {
     "data": {
      "text/plain": [
       "Int64Index([14], dtype='int64')"
      ]
     },
     "execution_count": 12,
     "metadata": {},
     "output_type": "execute_result"
    }
   ],
   "source": [
    "df[df['age'] =='Twenty Seven'].index"
   ]
  },
  {
   "cell_type": "code",
   "execution_count": 13,
   "metadata": {},
   "outputs": [],
   "source": [
    "df['age'].loc[14] = 27"
   ]
  },
  {
   "cell_type": "code",
   "execution_count": 14,
   "metadata": {},
   "outputs": [],
   "source": [
    "df['age'] = [int(i) for i in df['age']]"
   ]
  },
  {
   "cell_type": "markdown",
   "metadata": {},
   "source": [
    "### Creating Dummy Variables"
   ]
  },
  {
   "cell_type": "markdown",
   "metadata": {},
   "source": [
    "The survey software created dummy columns when exporting the data into a csv file. However, for each column it left the object if it corresponded with the column (i.e. 'City' in the City column) and the rest as null values. To facilitate the analysis of the data a function was created to replace these values with a 1 or a 0 respectively. "
   ]
  },
  {
   "cell_type": "code",
   "execution_count": 15,
   "metadata": {},
   "outputs": [],
   "source": [
    "def dummify(series, word):\n",
    "    '''\n",
    "    Function that takes a series as an argument and returns a 1 for a given word and 0 for the rest.\n",
    "    '''\n",
    "    for i in range(len(series)):\n",
    "        if series[i] == word:\n",
    "            series[i] = 1\n",
    "        else:\n",
    "            series[i] = 0\n",
    "    return series"
   ]
  },
  {
   "cell_type": "code",
   "execution_count": 16,
   "metadata": {},
   "outputs": [],
   "source": [
    "for num in range(4): \n",
    "    words = ['City', 'Outskirts', 'Countryside', 'Other']\n",
    "    columns = df.columns[1:5]\n",
    "    df[columns[num]] = dummify(df[columns[num]], words[num])\n",
    "        "
   ]
  },
  {
   "cell_type": "code",
   "execution_count": 17,
   "metadata": {},
   "outputs": [
    {
     "data": {
      "text/html": [
       "<div>\n",
       "<style scoped>\n",
       "    .dataframe tbody tr th:only-of-type {\n",
       "        vertical-align: middle;\n",
       "    }\n",
       "\n",
       "    .dataframe tbody tr th {\n",
       "        vertical-align: top;\n",
       "    }\n",
       "\n",
       "    .dataframe thead th {\n",
       "        text-align: right;\n",
       "    }\n",
       "</style>\n",
       "<table border=\"1\" class=\"dataframe\">\n",
       "  <thead>\n",
       "    <tr style=\"text-align: right;\">\n",
       "      <th></th>\n",
       "      <th>age</th>\n",
       "      <th>2_city</th>\n",
       "      <th>2_outskirts</th>\n",
       "      <th>2_countryside</th>\n",
       "      <th>2_other</th>\n",
       "      <th>state</th>\n",
       "      <th>people_in_house</th>\n",
       "      <th>emp_stat</th>\n",
       "      <th>edu</th>\n",
       "      <th>how_likely</th>\n",
       "      <th>8_mask</th>\n",
       "      <th>8_soc_dist</th>\n",
       "      <th>8_outdoors</th>\n",
       "      <th>8_hand_san</th>\n",
       "      <th>8_gloves</th>\n",
       "      <th>8_all</th>\n",
       "      <th>8_none_above</th>\n",
       "      <th>food_drink</th>\n",
       "      <th>merch</th>\n",
       "    </tr>\n",
       "  </thead>\n",
       "  <tbody>\n",
       "    <tr>\n",
       "      <th>0</th>\n",
       "      <td>25</td>\n",
       "      <td>1</td>\n",
       "      <td>0</td>\n",
       "      <td>0</td>\n",
       "      <td>0</td>\n",
       "      <td>NY</td>\n",
       "      <td>0</td>\n",
       "      <td>Student</td>\n",
       "      <td>College</td>\n",
       "      <td>3</td>\n",
       "      <td>Mask</td>\n",
       "      <td>Social Distancing (6ft.)</td>\n",
       "      <td>Outdoors</td>\n",
       "      <td>Hand Sanitizing Stations</td>\n",
       "      <td>NaN</td>\n",
       "      <td>NaN</td>\n",
       "      <td>NaN</td>\n",
       "      <td>3</td>\n",
       "      <td>2</td>\n",
       "    </tr>\n",
       "    <tr>\n",
       "      <th>1</th>\n",
       "      <td>22</td>\n",
       "      <td>1</td>\n",
       "      <td>0</td>\n",
       "      <td>0</td>\n",
       "      <td>0</td>\n",
       "      <td>NY</td>\n",
       "      <td>2</td>\n",
       "      <td>Employed</td>\n",
       "      <td>College</td>\n",
       "      <td>1</td>\n",
       "      <td>NaN</td>\n",
       "      <td>NaN</td>\n",
       "      <td>NaN</td>\n",
       "      <td>NaN</td>\n",
       "      <td>NaN</td>\n",
       "      <td>All of the Above</td>\n",
       "      <td>NaN</td>\n",
       "      <td>3</td>\n",
       "      <td>1</td>\n",
       "    </tr>\n",
       "    <tr>\n",
       "      <th>2</th>\n",
       "      <td>61</td>\n",
       "      <td>1</td>\n",
       "      <td>0</td>\n",
       "      <td>0</td>\n",
       "      <td>0</td>\n",
       "      <td>NY</td>\n",
       "      <td>1</td>\n",
       "      <td>Employed</td>\n",
       "      <td>Masters</td>\n",
       "      <td>0</td>\n",
       "      <td>NaN</td>\n",
       "      <td>NaN</td>\n",
       "      <td>NaN</td>\n",
       "      <td>NaN</td>\n",
       "      <td>NaN</td>\n",
       "      <td>All of the Above</td>\n",
       "      <td>NaN</td>\n",
       "      <td>0</td>\n",
       "      <td>0</td>\n",
       "    </tr>\n",
       "  </tbody>\n",
       "</table>\n",
       "</div>"
      ],
      "text/plain": [
       "   age 2_city 2_outskirts 2_countryside 2_other state people_in_house  \\\n",
       "0   25      1           0             0       0    NY               0   \n",
       "1   22      1           0             0       0    NY               2   \n",
       "2   61      1           0             0       0    NY               1   \n",
       "\n",
       "   emp_stat      edu how_likely 8_mask                8_soc_dist 8_outdoors  \\\n",
       "0   Student  College          3   Mask  Social Distancing (6ft.)   Outdoors   \n",
       "1  Employed  College          1    NaN                       NaN        NaN   \n",
       "2  Employed  Masters          0    NaN                       NaN        NaN   \n",
       "\n",
       "                 8_hand_san 8_gloves             8_all 8_none_above  \\\n",
       "0  Hand Sanitizing Stations      NaN               NaN          NaN   \n",
       "1                       NaN      NaN  All of the Above          NaN   \n",
       "2                       NaN      NaN  All of the Above          NaN   \n",
       "\n",
       "  food_drink merch  \n",
       "0          3     2  \n",
       "1          3     1  \n",
       "2          0     0  "
      ]
     },
     "execution_count": 17,
     "metadata": {},
     "output_type": "execute_result"
    }
   ],
   "source": [
    "df.head(3)"
   ]
  },
  {
   "cell_type": "markdown",
   "metadata": {},
   "source": [
    "The same must be done for the answers to the question, \"What is the most important safety regulation for you to attend live events?\"."
   ]
  },
  {
   "cell_type": "code",
   "execution_count": 18,
   "metadata": {},
   "outputs": [],
   "source": [
    "for num in range(7): \n",
    "    words = ['Mask', 'Social Distancing (6ft.)',\n",
    "             'Outdoors', 'Hand Sanitizing Stations',\n",
    "             'Gloves', 'All of the Above', 'None of the Above']\n",
    "    columns = df.columns[10:17]\n",
    "    df[columns[num]] = dummify(df[columns[num]], words[num])"
   ]
  },
  {
   "cell_type": "markdown",
   "metadata": {},
   "source": [
    "### Adjusting Data Types"
   ]
  },
  {
   "cell_type": "markdown",
   "metadata": {},
   "source": [
    "Checking data types of nominal values to turn them into numerical values rather than objects."
   ]
  },
  {
   "cell_type": "code",
   "execution_count": 19,
   "metadata": {
    "scrolled": false
   },
   "outputs": [
    {
     "data": {
      "text/plain": [
       "age                 int64\n",
       "2_city             object\n",
       "2_outskirts        object\n",
       "2_countryside      object\n",
       "2_other            object\n",
       "state              object\n",
       "people_in_house    object\n",
       "emp_stat           object\n",
       "edu                object\n",
       "how_likely         object\n",
       "8_mask             object\n",
       "8_soc_dist         object\n",
       "8_outdoors         object\n",
       "8_hand_san         object\n",
       "8_gloves           object\n",
       "8_all              object\n",
       "8_none_above       object\n",
       "food_drink         object\n",
       "merch              object\n",
       "dtype: object"
      ]
     },
     "execution_count": 19,
     "metadata": {},
     "output_type": "execute_result"
    }
   ],
   "source": [
    "df.dtypes"
   ]
  },
  {
   "cell_type": "code",
   "execution_count": 20,
   "metadata": {
    "scrolled": true
   },
   "outputs": [
    {
     "data": {
      "text/plain": [
       "array(['0', '2', '1', '4+', '3'], dtype=object)"
      ]
     },
     "execution_count": 20,
     "metadata": {},
     "output_type": "execute_result"
    }
   ],
   "source": [
    "df['people_in_house'].unique()"
   ]
  },
  {
   "cell_type": "markdown",
   "metadata": {},
   "source": [
    "The answer options for \"How many people do you live with?\" contain a \"4+\" rather than having the respondents enter the actual number. This is changed to four in order to have numerical values. In the future it would be best to have respondents enter the precise number so that we limit information loss. "
   ]
  },
  {
   "cell_type": "code",
   "execution_count": 21,
   "metadata": {},
   "outputs": [],
   "source": [
    "df['people_in_house'] = df['people_in_house'].replace('4+', '4')"
   ]
  },
  {
   "cell_type": "code",
   "execution_count": 22,
   "metadata": {},
   "outputs": [
    {
     "data": {
      "text/plain": [
       "array(['0', '2', '1', '4', '3'], dtype=object)"
      ]
     },
     "execution_count": 22,
     "metadata": {},
     "output_type": "execute_result"
    }
   ],
   "source": [
    "df['people_in_house'].unique()"
   ]
  },
  {
   "cell_type": "code",
   "execution_count": 23,
   "metadata": {},
   "outputs": [],
   "source": [
    "columns_nom = [\n",
    "    '2_city',\n",
    "    '2_outskirts',\n",
    "    '2_countryside',\n",
    "    '2_other',\n",
    "    'people_in_house',\n",
    "    'how_likely',\n",
    "    '8_mask',\n",
    "    '8_soc_dist',\n",
    "    '8_outdoors',\n",
    "    '8_hand_san',\n",
    "    '8_gloves',\n",
    "    '8_all',\n",
    "    '8_none_above',\n",
    "    'food_drink',\n",
    "    'merch'\n",
    "]\n",
    "\n",
    "for i in columns_nom:\n",
    "    df[i] = df[i].astype(int)"
   ]
  },
  {
   "cell_type": "code",
   "execution_count": 24,
   "metadata": {},
   "outputs": [
    {
     "data": {
      "text/plain": [
       "age                 int64\n",
       "2_city              int64\n",
       "2_outskirts         int64\n",
       "2_countryside       int64\n",
       "2_other             int64\n",
       "state              object\n",
       "people_in_house     int64\n",
       "emp_stat           object\n",
       "edu                object\n",
       "how_likely          int64\n",
       "8_mask              int64\n",
       "8_soc_dist          int64\n",
       "8_outdoors          int64\n",
       "8_hand_san          int64\n",
       "8_gloves            int64\n",
       "8_all               int64\n",
       "8_none_above        int64\n",
       "food_drink          int64\n",
       "merch               int64\n",
       "dtype: object"
      ]
     },
     "execution_count": 24,
     "metadata": {},
     "output_type": "execute_result"
    }
   ],
   "source": [
    "df.dtypes"
   ]
  },
  {
   "cell_type": "markdown",
   "metadata": {},
   "source": [
    "#### Adjusting user preference based on their selection of 'All of the Above' to Question 8 in the survey"
   ]
  },
  {
   "cell_type": "markdown",
   "metadata": {},
   "source": [
    "The selection of 'All of the Above' as well as 'None of the Above' becomes redundant as it can be determined by either the presence or absence of selection in all other categories. For this reason any respondents who selected one of those two answers we filled the other columns accordingly. (The for loop is only required for \"All of the Above\" as respondents didn't select any other option for \"None of the Above\" as shown below.)"
   ]
  },
  {
   "cell_type": "code",
   "execution_count": 25,
   "metadata": {},
   "outputs": [],
   "source": [
    "for i in range(len(df['8_all'])):\n",
    "    if df['8_all'][i] ==1:\n",
    "        df['8_mask'][i] = 1\n",
    "        df['8_soc_dist'][i] = 1\n",
    "        df['8_hand_san'][i] = 1\n",
    "        df['8_outdoors'][i] = 1\n",
    "        df['8_gloves'][i] = 1\n",
    "        "
   ]
  },
  {
   "cell_type": "code",
   "execution_count": 26,
   "metadata": {
    "scrolled": true
   },
   "outputs": [
    {
     "data": {
      "text/html": [
       "<div>\n",
       "<style scoped>\n",
       "    .dataframe tbody tr th:only-of-type {\n",
       "        vertical-align: middle;\n",
       "    }\n",
       "\n",
       "    .dataframe tbody tr th {\n",
       "        vertical-align: top;\n",
       "    }\n",
       "\n",
       "    .dataframe thead th {\n",
       "        text-align: right;\n",
       "    }\n",
       "</style>\n",
       "<table border=\"1\" class=\"dataframe\">\n",
       "  <thead>\n",
       "    <tr style=\"text-align: right;\">\n",
       "      <th></th>\n",
       "      <th>age</th>\n",
       "      <th>2_city</th>\n",
       "      <th>2_outskirts</th>\n",
       "      <th>2_countryside</th>\n",
       "      <th>2_other</th>\n",
       "      <th>state</th>\n",
       "      <th>people_in_house</th>\n",
       "      <th>emp_stat</th>\n",
       "      <th>edu</th>\n",
       "      <th>how_likely</th>\n",
       "      <th>8_mask</th>\n",
       "      <th>8_soc_dist</th>\n",
       "      <th>8_outdoors</th>\n",
       "      <th>8_hand_san</th>\n",
       "      <th>8_gloves</th>\n",
       "      <th>8_all</th>\n",
       "      <th>8_none_above</th>\n",
       "      <th>food_drink</th>\n",
       "      <th>merch</th>\n",
       "    </tr>\n",
       "  </thead>\n",
       "  <tbody>\n",
       "    <tr>\n",
       "      <th>8</th>\n",
       "      <td>51</td>\n",
       "      <td>0</td>\n",
       "      <td>1</td>\n",
       "      <td>0</td>\n",
       "      <td>0</td>\n",
       "      <td>MD</td>\n",
       "      <td>4</td>\n",
       "      <td>Employed</td>\n",
       "      <td>PhD</td>\n",
       "      <td>0</td>\n",
       "      <td>0</td>\n",
       "      <td>0</td>\n",
       "      <td>0</td>\n",
       "      <td>0</td>\n",
       "      <td>0</td>\n",
       "      <td>0</td>\n",
       "      <td>1</td>\n",
       "      <td>0</td>\n",
       "      <td>0</td>\n",
       "    </tr>\n",
       "    <tr>\n",
       "      <th>29</th>\n",
       "      <td>61</td>\n",
       "      <td>0</td>\n",
       "      <td>0</td>\n",
       "      <td>1</td>\n",
       "      <td>0</td>\n",
       "      <td>Outside of US</td>\n",
       "      <td>1</td>\n",
       "      <td>Unemployed</td>\n",
       "      <td>PhD</td>\n",
       "      <td>0</td>\n",
       "      <td>0</td>\n",
       "      <td>0</td>\n",
       "      <td>0</td>\n",
       "      <td>0</td>\n",
       "      <td>0</td>\n",
       "      <td>0</td>\n",
       "      <td>1</td>\n",
       "      <td>0</td>\n",
       "      <td>0</td>\n",
       "    </tr>\n",
       "    <tr>\n",
       "      <th>51</th>\n",
       "      <td>37</td>\n",
       "      <td>0</td>\n",
       "      <td>1</td>\n",
       "      <td>0</td>\n",
       "      <td>0</td>\n",
       "      <td>NY</td>\n",
       "      <td>0</td>\n",
       "      <td>Employed</td>\n",
       "      <td>Masters</td>\n",
       "      <td>5</td>\n",
       "      <td>0</td>\n",
       "      <td>0</td>\n",
       "      <td>0</td>\n",
       "      <td>0</td>\n",
       "      <td>0</td>\n",
       "      <td>0</td>\n",
       "      <td>1</td>\n",
       "      <td>5</td>\n",
       "      <td>3</td>\n",
       "    </tr>\n",
       "    <tr>\n",
       "      <th>59</th>\n",
       "      <td>27</td>\n",
       "      <td>1</td>\n",
       "      <td>0</td>\n",
       "      <td>0</td>\n",
       "      <td>0</td>\n",
       "      <td>MD</td>\n",
       "      <td>4</td>\n",
       "      <td>Employed</td>\n",
       "      <td>High School</td>\n",
       "      <td>0</td>\n",
       "      <td>0</td>\n",
       "      <td>0</td>\n",
       "      <td>0</td>\n",
       "      <td>0</td>\n",
       "      <td>0</td>\n",
       "      <td>0</td>\n",
       "      <td>1</td>\n",
       "      <td>0</td>\n",
       "      <td>0</td>\n",
       "    </tr>\n",
       "  </tbody>\n",
       "</table>\n",
       "</div>"
      ],
      "text/plain": [
       "    age  2_city  2_outskirts  2_countryside  2_other          state  \\\n",
       "8    51       0            1              0        0             MD   \n",
       "29   61       0            0              1        0  Outside of US   \n",
       "51   37       0            1              0        0             NY   \n",
       "59   27       1            0              0        0             MD   \n",
       "\n",
       "    people_in_house    emp_stat          edu  how_likely  8_mask  8_soc_dist  \\\n",
       "8                 4    Employed          PhD           0       0           0   \n",
       "29                1  Unemployed          PhD           0       0           0   \n",
       "51                0    Employed      Masters           5       0           0   \n",
       "59                4    Employed  High School           0       0           0   \n",
       "\n",
       "    8_outdoors  8_hand_san  8_gloves  8_all  8_none_above  food_drink  merch  \n",
       "8            0           0         0      0             1           0      0  \n",
       "29           0           0         0      0             1           0      0  \n",
       "51           0           0         0      0             1           5      3  \n",
       "59           0           0         0      0             1           0      0  "
      ]
     },
     "execution_count": 26,
     "metadata": {},
     "output_type": "execute_result"
    }
   ],
   "source": [
    "df[df['8_none_above'] == 1]"
   ]
  },
  {
   "cell_type": "code",
   "execution_count": 27,
   "metadata": {},
   "outputs": [],
   "source": [
    "df = df.drop(columns= ['8_all', '8_none_above'])"
   ]
  },
  {
   "cell_type": "markdown",
   "metadata": {},
   "source": [
    "The columns were drop to avoid data leakage."
   ]
  },
  {
   "cell_type": "markdown",
   "metadata": {},
   "source": [
    "## EDA"
   ]
  },
  {
   "cell_type": "markdown",
   "metadata": {},
   "source": [
    "We begin by looking at the mean values of the responses grouped by their education as well as their employment status."
   ]
  },
  {
   "cell_type": "code",
   "execution_count": 28,
   "metadata": {
    "scrolled": true
   },
   "outputs": [
    {
     "data": {
      "text/html": [
       "<div>\n",
       "<style scoped>\n",
       "    .dataframe tbody tr th:only-of-type {\n",
       "        vertical-align: middle;\n",
       "    }\n",
       "\n",
       "    .dataframe tbody tr th {\n",
       "        vertical-align: top;\n",
       "    }\n",
       "\n",
       "    .dataframe thead th {\n",
       "        text-align: right;\n",
       "    }\n",
       "</style>\n",
       "<table border=\"1\" class=\"dataframe\">\n",
       "  <thead>\n",
       "    <tr style=\"text-align: right;\">\n",
       "      <th></th>\n",
       "      <th>age</th>\n",
       "      <th>2_city</th>\n",
       "      <th>2_outskirts</th>\n",
       "      <th>2_countryside</th>\n",
       "      <th>2_other</th>\n",
       "      <th>people_in_house</th>\n",
       "      <th>how_likely</th>\n",
       "      <th>8_mask</th>\n",
       "      <th>8_soc_dist</th>\n",
       "      <th>8_outdoors</th>\n",
       "      <th>8_hand_san</th>\n",
       "      <th>8_gloves</th>\n",
       "      <th>food_drink</th>\n",
       "      <th>merch</th>\n",
       "    </tr>\n",
       "    <tr>\n",
       "      <th>edu</th>\n",
       "      <th></th>\n",
       "      <th></th>\n",
       "      <th></th>\n",
       "      <th></th>\n",
       "      <th></th>\n",
       "      <th></th>\n",
       "      <th></th>\n",
       "      <th></th>\n",
       "      <th></th>\n",
       "      <th></th>\n",
       "      <th></th>\n",
       "      <th></th>\n",
       "      <th></th>\n",
       "      <th></th>\n",
       "    </tr>\n",
       "  </thead>\n",
       "  <tbody>\n",
       "    <tr>\n",
       "      <th>College</th>\n",
       "      <td>37.965517</td>\n",
       "      <td>0.827586</td>\n",
       "      <td>0.172414</td>\n",
       "      <td>0.000000</td>\n",
       "      <td>0.0</td>\n",
       "      <td>1.689655</td>\n",
       "      <td>2.206897</td>\n",
       "      <td>0.931034</td>\n",
       "      <td>0.896552</td>\n",
       "      <td>0.931034</td>\n",
       "      <td>0.793103</td>\n",
       "      <td>0.482759</td>\n",
       "      <td>2.379310</td>\n",
       "      <td>2.241379</td>\n",
       "    </tr>\n",
       "    <tr>\n",
       "      <th>High School</th>\n",
       "      <td>27.000000</td>\n",
       "      <td>1.000000</td>\n",
       "      <td>0.000000</td>\n",
       "      <td>0.000000</td>\n",
       "      <td>0.0</td>\n",
       "      <td>4.000000</td>\n",
       "      <td>0.000000</td>\n",
       "      <td>0.000000</td>\n",
       "      <td>0.000000</td>\n",
       "      <td>0.000000</td>\n",
       "      <td>0.000000</td>\n",
       "      <td>0.000000</td>\n",
       "      <td>0.000000</td>\n",
       "      <td>0.000000</td>\n",
       "    </tr>\n",
       "    <tr>\n",
       "      <th>Masters</th>\n",
       "      <td>46.391304</td>\n",
       "      <td>0.869565</td>\n",
       "      <td>0.130435</td>\n",
       "      <td>0.000000</td>\n",
       "      <td>0.0</td>\n",
       "      <td>1.304348</td>\n",
       "      <td>1.782609</td>\n",
       "      <td>0.956522</td>\n",
       "      <td>0.956522</td>\n",
       "      <td>0.913043</td>\n",
       "      <td>0.695652</td>\n",
       "      <td>0.434783</td>\n",
       "      <td>2.043478</td>\n",
       "      <td>2.217391</td>\n",
       "    </tr>\n",
       "    <tr>\n",
       "      <th>PhD</th>\n",
       "      <td>56.117647</td>\n",
       "      <td>0.705882</td>\n",
       "      <td>0.176471</td>\n",
       "      <td>0.117647</td>\n",
       "      <td>0.0</td>\n",
       "      <td>1.823529</td>\n",
       "      <td>1.529412</td>\n",
       "      <td>0.882353</td>\n",
       "      <td>0.882353</td>\n",
       "      <td>0.764706</td>\n",
       "      <td>0.529412</td>\n",
       "      <td>0.411765</td>\n",
       "      <td>1.823529</td>\n",
       "      <td>1.764706</td>\n",
       "    </tr>\n",
       "  </tbody>\n",
       "</table>\n",
       "</div>"
      ],
      "text/plain": [
       "                   age    2_city  2_outskirts  2_countryside  2_other  \\\n",
       "edu                                                                     \n",
       "College      37.965517  0.827586     0.172414       0.000000      0.0   \n",
       "High School  27.000000  1.000000     0.000000       0.000000      0.0   \n",
       "Masters      46.391304  0.869565     0.130435       0.000000      0.0   \n",
       "PhD          56.117647  0.705882     0.176471       0.117647      0.0   \n",
       "\n",
       "             people_in_house  how_likely    8_mask  8_soc_dist  8_outdoors  \\\n",
       "edu                                                                          \n",
       "College             1.689655    2.206897  0.931034    0.896552    0.931034   \n",
       "High School         4.000000    0.000000  0.000000    0.000000    0.000000   \n",
       "Masters             1.304348    1.782609  0.956522    0.956522    0.913043   \n",
       "PhD                 1.823529    1.529412  0.882353    0.882353    0.764706   \n",
       "\n",
       "             8_hand_san  8_gloves  food_drink     merch  \n",
       "edu                                                      \n",
       "College        0.793103  0.482759    2.379310  2.241379  \n",
       "High School    0.000000  0.000000    0.000000  0.000000  \n",
       "Masters        0.695652  0.434783    2.043478  2.217391  \n",
       "PhD            0.529412  0.411765    1.823529  1.764706  "
      ]
     },
     "execution_count": 28,
     "metadata": {},
     "output_type": "execute_result"
    }
   ],
   "source": [
    "df.groupby(by='edu').mean()"
   ]
  },
  {
   "cell_type": "code",
   "execution_count": 29,
   "metadata": {},
   "outputs": [
    {
     "data": {
      "text/html": [
       "<div>\n",
       "<style scoped>\n",
       "    .dataframe tbody tr th:only-of-type {\n",
       "        vertical-align: middle;\n",
       "    }\n",
       "\n",
       "    .dataframe tbody tr th {\n",
       "        vertical-align: top;\n",
       "    }\n",
       "\n",
       "    .dataframe thead th {\n",
       "        text-align: right;\n",
       "    }\n",
       "</style>\n",
       "<table border=\"1\" class=\"dataframe\">\n",
       "  <thead>\n",
       "    <tr style=\"text-align: right;\">\n",
       "      <th></th>\n",
       "      <th>age</th>\n",
       "      <th>2_city</th>\n",
       "      <th>2_outskirts</th>\n",
       "      <th>2_countryside</th>\n",
       "      <th>2_other</th>\n",
       "      <th>people_in_house</th>\n",
       "      <th>how_likely</th>\n",
       "      <th>8_mask</th>\n",
       "      <th>8_soc_dist</th>\n",
       "      <th>8_outdoors</th>\n",
       "      <th>8_hand_san</th>\n",
       "      <th>8_gloves</th>\n",
       "      <th>food_drink</th>\n",
       "      <th>merch</th>\n",
       "    </tr>\n",
       "    <tr>\n",
       "      <th>emp_stat</th>\n",
       "      <th></th>\n",
       "      <th></th>\n",
       "      <th></th>\n",
       "      <th></th>\n",
       "      <th></th>\n",
       "      <th></th>\n",
       "      <th></th>\n",
       "      <th></th>\n",
       "      <th></th>\n",
       "      <th></th>\n",
       "      <th></th>\n",
       "      <th></th>\n",
       "      <th></th>\n",
       "      <th></th>\n",
       "    </tr>\n",
       "  </thead>\n",
       "  <tbody>\n",
       "    <tr>\n",
       "      <th>Employed</th>\n",
       "      <td>42.764706</td>\n",
       "      <td>0.823529</td>\n",
       "      <td>0.156863</td>\n",
       "      <td>0.019608</td>\n",
       "      <td>0.0</td>\n",
       "      <td>1.725490</td>\n",
       "      <td>2.019608</td>\n",
       "      <td>0.941176</td>\n",
       "      <td>0.901961</td>\n",
       "      <td>0.862745</td>\n",
       "      <td>0.666667</td>\n",
       "      <td>0.392157</td>\n",
       "      <td>2.333333</td>\n",
       "      <td>2.294118</td>\n",
       "    </tr>\n",
       "    <tr>\n",
       "      <th>Student</th>\n",
       "      <td>32.000000</td>\n",
       "      <td>1.000000</td>\n",
       "      <td>0.000000</td>\n",
       "      <td>0.000000</td>\n",
       "      <td>0.0</td>\n",
       "      <td>1.500000</td>\n",
       "      <td>1.500000</td>\n",
       "      <td>1.000000</td>\n",
       "      <td>1.000000</td>\n",
       "      <td>1.000000</td>\n",
       "      <td>1.000000</td>\n",
       "      <td>0.500000</td>\n",
       "      <td>1.500000</td>\n",
       "      <td>2.500000</td>\n",
       "    </tr>\n",
       "    <tr>\n",
       "      <th>Unemployed</th>\n",
       "      <td>53.176471</td>\n",
       "      <td>0.764706</td>\n",
       "      <td>0.176471</td>\n",
       "      <td>0.058824</td>\n",
       "      <td>0.0</td>\n",
       "      <td>1.352941</td>\n",
       "      <td>1.470588</td>\n",
       "      <td>0.823529</td>\n",
       "      <td>0.882353</td>\n",
       "      <td>0.882353</td>\n",
       "      <td>0.705882</td>\n",
       "      <td>0.588235</td>\n",
       "      <td>1.470588</td>\n",
       "      <td>1.411765</td>\n",
       "    </tr>\n",
       "  </tbody>\n",
       "</table>\n",
       "</div>"
      ],
      "text/plain": [
       "                  age    2_city  2_outskirts  2_countryside  2_other  \\\n",
       "emp_stat                                                               \n",
       "Employed    42.764706  0.823529     0.156863       0.019608      0.0   \n",
       "Student     32.000000  1.000000     0.000000       0.000000      0.0   \n",
       "Unemployed  53.176471  0.764706     0.176471       0.058824      0.0   \n",
       "\n",
       "            people_in_house  how_likely    8_mask  8_soc_dist  8_outdoors  \\\n",
       "emp_stat                                                                    \n",
       "Employed           1.725490    2.019608  0.941176    0.901961    0.862745   \n",
       "Student            1.500000    1.500000  1.000000    1.000000    1.000000   \n",
       "Unemployed         1.352941    1.470588  0.823529    0.882353    0.882353   \n",
       "\n",
       "            8_hand_san  8_gloves  food_drink     merch  \n",
       "emp_stat                                                \n",
       "Employed      0.666667  0.392157    2.333333  2.294118  \n",
       "Student       1.000000  0.500000    1.500000  2.500000  \n",
       "Unemployed    0.705882  0.588235    1.470588  1.411765  "
      ]
     },
     "execution_count": 29,
     "metadata": {},
     "output_type": "execute_result"
    }
   ],
   "source": [
    "df.groupby(by='emp_stat').mean()"
   ]
  },
  {
   "cell_type": "markdown",
   "metadata": {},
   "source": [
    "### Examining the Target Variable (How Likely One Would Attend an Event)"
   ]
  },
  {
   "cell_type": "code",
   "execution_count": 30,
   "metadata": {},
   "outputs": [
    {
     "data": {
      "text/plain": [
       "''"
      ]
     },
     "execution_count": 30,
     "metadata": {},
     "output_type": "execute_result"
    },
    {
     "data": {
      "image/png": "[encoded data removed]",
      "text/plain": [
       "<Figure size 432x288 with 1 Axes>"
      ]
     },
     "metadata": {
      "needs_background": "light"
     },
     "output_type": "display_data"
    }
   ],
   "source": [
    "fig, ax = plt.subplots()\n",
    "plt.style.use('fivethirtyeight')\n",
    "\n",
    "ax.bar(df['how_likely'].value_counts().sort_index().index, df['how_likely'].value_counts().sort_index())\n",
    "\n",
    "ax.set_ylabel('Number of Respondents', size = 12)\n",
    "ax.set_xlabel('How Likely One Would Attend an Event (0-5)', size = 12)\n",
    "ax.set_title('Number of Respondents per Rating', size = 16)\n",
    "ax.set_yticks(np.arange(0,20,2))\n",
    ";"
   ]
  },
  {
   "cell_type": "markdown",
   "metadata": {},
   "source": [
    "Here we can see that respondents in general were reluctant to attend a live event."
   ]
  },
  {
   "cell_type": "code",
   "execution_count": 31,
   "metadata": {
    "scrolled": false
   },
   "outputs": [
    {
     "data": {
      "text/plain": [
       "''"
      ]
     },
     "execution_count": 31,
     "metadata": {},
     "output_type": "execute_result"
    },
    {
     "data": {
      "image/png": "[encoded data removed]",
      "text/plain": [
       "<Figure size 648x360 with 1 Axes>"
      ]
     },
     "metadata": {},
     "output_type": "display_data"
    }
   ],
   "source": [
    "fig, ax = plt.subplots(figsize=(9,5))\n",
    "plt.style.use('fivethirtyeight')\n",
    "\n",
    "ax.bar(df.groupby(by='emp_stat').mean()['how_likely'].index, df.groupby(by='emp_stat').mean()['how_likely'].sort_values(ascending = False))\n",
    "\n",
    "ax.set_xlabel('Level of Education', size = 13)\n",
    "ax.set_ylabel('Rating', size = 13)\n",
    "ax.set_title('How Likely People Will Attend Live Events Given Their Employment Status', size = 14)\n",
    "ax.set_ylim(0,5)\n",
    ";"
   ]
  },
  {
   "cell_type": "markdown",
   "metadata": {},
   "source": [
    "Respondents who were employed were more likely to attend events. This could be due to their financial security and ability to take on more risks. Further investigation would be required in the form of a more detailed survey."
   ]
  },
  {
   "cell_type": "code",
   "execution_count": 32,
   "metadata": {},
   "outputs": [
    {
     "data": {
      "text/plain": [
       "''"
      ]
     },
     "execution_count": 32,
     "metadata": {},
     "output_type": "execute_result"
    },
    {
     "data": {
      "image/png": "[encoded data removed]",
      "text/plain": [
       "<Figure size 648x360 with 1 Axes>"
      ]
     },
     "metadata": {},
     "output_type": "display_data"
    }
   ],
   "source": [
    "fig, ax = plt.subplots(figsize=(9,5))\n",
    "plt.style.use('fivethirtyeight')\n",
    "\n",
    "ax.bar(df.groupby(by='edu').mean()['how_likely'].index, df.groupby(by='edu').mean()['how_likely'])\n",
    "\n",
    "ax.set_ylabel('Average Rating (0-5)', size = 13)\n",
    "ax.set_xlabel('Level of Education', size = 13)\n",
    "ax.set_title('How Likely People Will Attend Live Events Given Their Education', size = 15)\n",
    "ax.set_ylim(0,5)\n",
    ";"
   ]
  },
  {
   "cell_type": "markdown",
   "metadata": {},
   "source": [
    "College students and graduates are more likely to attend events compared to other levels of education. This could be due to the younger average age of the respondents for college students and graduates and the fact that younger age groups are at less risk of having lethal repercussions to contracting COVID-19."
   ]
  },
  {
   "cell_type": "markdown",
   "metadata": {},
   "source": [
    "### Examining the Demographics of Respondents"
   ]
  },
  {
   "cell_type": "code",
   "execution_count": 33,
   "metadata": {
    "scrolled": true
   },
   "outputs": [
    {
     "data": {
      "text/plain": [
       "''"
      ]
     },
     "execution_count": 33,
     "metadata": {},
     "output_type": "execute_result"
    },
    {
     "data": {
      "image/png": "[encoded data removed]",
      "text/plain": [
       "<Figure size 432x288 with 1 Axes>"
      ]
     },
     "metadata": {},
     "output_type": "display_data"
    }
   ],
   "source": [
    "plt.hist(df['age'], bins = 5)\n",
    "plt.style.use('fivethirtyeight')\n",
    "plt.title(\"Distibution of Respondents Age\")\n",
    "plt.xlabel('Age', size = 12)\n",
    "plt.ylabel('Frequency', size = 12)\n",
    ";"
   ]
  },
  {
   "cell_type": "code",
   "execution_count": 34,
   "metadata": {},
   "outputs": [
    {
     "data": {
      "image/png": "[encoded data removed]",
      "text/plain": [
       "<Figure size 720x360 with 1 Axes>"
      ]
     },
     "metadata": {},
     "output_type": "display_data"
    }
   ],
   "source": [
    "fig, ax = plt.subplots(figsize=(10,5))\n",
    "plt.style.use('fivethirtyeight')\n",
    "\n",
    "ax.hist(df['edu'])\n",
    "ax.set_ylabel('Frequency', size = 12)\n",
    "ax.set_xticklabels(['College','Masters', 'PhD','High School'], size=12)\n",
    "plt.style.use('fivethirtyeight');"
   ]
  },
  {
   "cell_type": "markdown",
   "metadata": {},
   "source": [
    "### Examining the Willingness to Purchase Products at Live Events"
   ]
  },
  {
   "cell_type": "markdown",
   "metadata": {},
   "source": [
    "#### Food and Drinks"
   ]
  },
  {
   "cell_type": "code",
   "execution_count": 35,
   "metadata": {},
   "outputs": [
    {
     "data": {
      "text/plain": [
       "''"
      ]
     },
     "execution_count": 35,
     "metadata": {},
     "output_type": "execute_result"
    },
    {
     "data": {
      "image/png": "[encoded data removed]",
      "text/plain": [
       "<Figure size 432x288 with 1 Axes>"
      ]
     },
     "metadata": {},
     "output_type": "display_data"
    }
   ],
   "source": [
    "fig, ax = plt.subplots()\n",
    "plt.style.use('fivethirtyeight')\n",
    "\n",
    "ax.bar(df['food_drink'].value_counts().sort_index().index, df['food_drink'].value_counts().sort_index(), color = 'g')\n",
    "\n",
    "ax.set_ylabel('Number of Respondents', size = 12)\n",
    "ax.set_xlabel('Rating (0-5)', size = 12)\n",
    "ax.set_title('Willingess to Purchase Food and Drinks', size = 16)\n",
    "ax.set_yticks(np.arange(0,20,2))\n",
    ";"
   ]
  },
  {
   "cell_type": "markdown",
   "metadata": {},
   "source": [
    "At first glance we can see that there is an overall downward trend. However, a large portion of the respondents said they would be willing to purchase food and drinks (Rating = 3, is over 2.5 which is the threshold for whether they will purchase something or not). This could be due to the fact that at events there are normally crowds around concession stands that could deter consumers."
   ]
  },
  {
   "cell_type": "code",
   "execution_count": 36,
   "metadata": {},
   "outputs": [
    {
     "data": {
      "text/plain": [
       "''"
      ]
     },
     "execution_count": 36,
     "metadata": {},
     "output_type": "execute_result"
    },
    {
     "data": {
      "image/png": "[encoded data removed]",
      "text/plain": [
       "<Figure size 648x360 with 1 Axes>"
      ]
     },
     "metadata": {},
     "output_type": "display_data"
    }
   ],
   "source": [
    "fig, ax = plt.subplots(figsize=(9,5))\n",
    "plt.style.use('fivethirtyeight')\n",
    "ax.bar(df.groupby(by='edu').mean()['food_drink'].index, df.groupby(by='edu').mean()['food_drink'])\n",
    "\n",
    "ax.set_ylabel('Average Rating (0-5)', size = 13)\n",
    "ax.set_xlabel('Level of Education', size = 13)\n",
    "#ax.set_xticklabels(['Masks','Social Distancing','Outdoors','Hand Sanitizing Stations','Gloves'])\n",
    "ax.set_title('How Likely People Will Buy Food and Drinks Given Their Education', size = 16)\n",
    "ax.set_ylim(0,5)\n",
    ";"
   ]
  },
  {
   "cell_type": "markdown",
   "metadata": {},
   "source": [
    "Here we can see that college students and graduate once again are more likely to purchase food and drinks. This could be due to their younger average age and reduced risk of fatality if COVID-19 was contracted. Further investigation would be required in the form of a more detailed survey."
   ]
  },
  {
   "cell_type": "markdown",
   "metadata": {},
   "source": [
    "#### Merchandise"
   ]
  },
  {
   "cell_type": "code",
   "execution_count": 37,
   "metadata": {},
   "outputs": [
    {
     "data": {
      "text/plain": [
       "''"
      ]
     },
     "execution_count": 37,
     "metadata": {},
     "output_type": "execute_result"
    },
    {
     "data": {
      "image/png": "[encoded data removed]",
      "text/plain": [
       "<Figure size 432x288 with 1 Axes>"
      ]
     },
     "metadata": {},
     "output_type": "display_data"
    }
   ],
   "source": [
    "fig, ax = plt.subplots()\n",
    "plt.style.use('fivethirtyeight')\n",
    "\n",
    "ax.bar(df['merch'].value_counts().sort_index().index, df['merch'].value_counts().sort_index())\n",
    "\n",
    "ax.set_ylabel('Number of Respondents', size = 12)\n",
    "ax.set_xlabel('Rating (0-5)', size = 12)\n",
    "ax.set_title('Willingess to Purchase Merchandise', size = 16)\n",
    "ax.set_yticks(np.arange(0,20,2))\n",
    ";"
   ]
  },
  {
   "cell_type": "markdown",
   "metadata": {},
   "source": [
    "While a majority of the respondents would not be willing to purchase merchandise, there are more that would when comparing the charts in the [Food and Drinks](#Food-and-Drinks) charts. This could be due to the lack of personnel coming into contact with the merchandise and respondents not having to worry whether employees are following safety regulations compared to when they are handling food and drinks."
   ]
  },
  {
   "cell_type": "code",
   "execution_count": 38,
   "metadata": {},
   "outputs": [
    {
     "data": {
      "text/plain": [
       "''"
      ]
     },
     "execution_count": 38,
     "metadata": {},
     "output_type": "execute_result"
    },
    {
     "data": {
      "image/png": "[encoded data removed]",
      "text/plain": [
       "<Figure size 648x360 with 1 Axes>"
      ]
     },
     "metadata": {},
     "output_type": "display_data"
    }
   ],
   "source": [
    "fig, ax = plt.subplots(figsize=(9,5))\n",
    "plt.style.use('fivethirtyeight')\n",
    "\n",
    "ax.bar(df.groupby(by='edu').mean()['merch'].index, df.groupby(by='edu').mean()['merch'])\n",
    "\n",
    "ax.set_xlabel('Level of Education', size = 13)\n",
    "ax.set_ylabel('Average Rating (0-5)', size = 13)\n",
    "#ax.set_xticklabels(['Masks','Social Distancing','Outdoors','Hand Sanitizing Stations','Gloves'])\n",
    "ax.set_title('How Likely People Will Buy Merchandise Given Their Education', size = 16)\n",
    "ax.set_ylim(0,5)\n",
    ";"
   ]
  },
  {
   "cell_type": "markdown",
   "metadata": {},
   "source": [
    "This chart shows us that while College students and graduates are still the most likely to purchase merchandise, those with a Masters degree are more likely to purchase merchandise than Food and Drinks. This could be due to the lower risk of contamination as mentioned above. "
   ]
  },
  {
   "cell_type": "markdown",
   "metadata": {},
   "source": [
    "### Examining the Respondents View on Safety Protocols"
   ]
  },
  {
   "cell_type": "code",
   "execution_count": 39,
   "metadata": {},
   "outputs": [
    {
     "data": {
      "image/png": "[encoded data removed]",
      "text/plain": [
       "<Figure size 720x360 with 1 Axes>"
      ]
     },
     "metadata": {},
     "output_type": "display_data"
    }
   ],
   "source": [
    "fig, ax = plt.subplots(figsize=(10,5))\n",
    "\n",
    "plt.style.use('fivethirtyeight')\n",
    "\n",
    "ax.bar(df.columns[10:15], df[df.columns[10:15]].sum(), color = ['cornflowerblue','dodgerblue'])\n",
    "\n",
    "ax.set_xlabel('Safety Protocols', size = 15)\n",
    "ax.set_ylabel(\"# of People\", size = 15)\n",
    "ax.set_xticklabels(['Masks','Social Distancing','Outdoors','Hand Sanitizing Stations','Gloves'], size = 12)\n",
    "ax.set_title('Most Important Safety Protocol');"
   ]
  },
  {
   "cell_type": "markdown",
   "metadata": {},
   "source": [
    "This chart shows us how respondents feel about the different safety protocols put in place during the COVID-19 pandemic. Respondents would be more willing to attend live events if: Masks are required, Social Distancing is required, and the event takes place outdoors. "
   ]
  },
  {
   "cell_type": "markdown",
   "metadata": {},
   "source": [
    "### Looking at Correlations"
   ]
  },
  {
   "cell_type": "markdown",
   "metadata": {},
   "source": [
    "#### Turning Remaining Categorical Values into Dummy Variables"
   ]
  },
  {
   "cell_type": "markdown",
   "metadata": {},
   "source": [
    "In order to look at the correlation between each feature and the target variable we need to dummify the remaining categorical variables."
   ]
  },
  {
   "cell_type": "code",
   "execution_count": 40,
   "metadata": {},
   "outputs": [],
   "source": [
    "dum_df = pd.get_dummies(df, columns = ['emp_stat', 'edu', 'state'])"
   ]
  },
  {
   "cell_type": "code",
   "execution_count": 41,
   "metadata": {},
   "outputs": [],
   "source": [
    "rel_features = dum_df.drop(columns = ['merch','food_drink'])"
   ]
  },
  {
   "cell_type": "markdown",
   "metadata": {},
   "source": [
    "#### Correlation Table"
   ]
  },
  {
   "cell_type": "code",
   "execution_count": 42,
   "metadata": {
    "scrolled": true
   },
   "outputs": [
    {
     "data": {
      "image/png": "[encoded data removed]",
      "text/plain": [
       "<Figure size 576x576 with 2 Axes>"
      ]
     },
     "metadata": {},
     "output_type": "display_data"
    }
   ],
   "source": [
    "plt.figure(figsize = (8,8))\n",
    "plt.style.use('fivethirtyeight')\n",
    "sns.heatmap(dum_df[rel_features.keys()].corr()[['how_likely']].sort_values('how_likely', ascending = False),\n",
    "            annot = True, vmin = -1, vmax = 1, cmap = 'coolwarm')\n",
    "\n",
    "b, t = plt.ylim()\n",
    "b += 0.5\n",
    "t -= 0.5\n",
    "plt.ylim(b,t);"
   ]
  },
  {
   "cell_type": "markdown",
   "metadata": {},
   "source": [
    "The correlation table shows us that while there is no feature with significant correlation to the target variable, it is possible that a combination of features could predict the willingness of respondents to attend live events. Key features include: Residing in California (Positive), Employed (Positive), whether the event is outdoors (Negative. Possibly due to an assumption that live events would most likely be indoors. Further investigation is required in the form of a more detailed survey.), enforcement of gloves (Negative), residing in the countryside(Negative. Could be due to travel times.), number of people living in the household (Negative. Higher risk of contaminating loved ones.), respondents with a PhD (Negative. Could be due to higher average age and ability to comprehend risks involved)."
   ]
  },
  {
   "cell_type": "markdown",
   "metadata": {},
   "source": [
    "## Conclusion"
   ]
  },
  {
   "cell_type": "markdown",
   "metadata": {},
   "source": [
    "According to the survey respondents are not likely to attend live events. However, upon looking closely at the data we can see that there are certain groups where the willingness is higher than others. Such groups include College students as well as respondents who are Employed. This information could be useful for marketing strategies as it provides a target audience during the COVID-19 pandemic. Furthermore, if people were to attend live events they are on the fence about purchasing products leaning towards 'not willing'. This could be due to the experience of purchasing products including waiting in line and crowding around the sale points. This issue could be resolved by implementing a way for attendees to place orders remotely and have them collect their products when they are ready. This would greatly reduce the risk of crowding in certain areas of the venues, possibly changing the willingness of attendees do purchase more things.\n",
    "\n",
    "Furthermore, the analysis pinpointed the most important safety protocols for the respondents. If event organizers were to enforce the use of masks, and social distancing, it would make the consumer feel more comfortable about attending. The third safety protocol was that the event was held outdoors, which is not something that is always feasible. However, if given a choice as an event planner then opting for the outdoor venue would make your attendee even more comfortable possibly increasing attendance as well as consumer satisfaction."
   ]
  },
  {
   "cell_type": "markdown",
   "metadata": {},
   "source": [
    "## Recommendations"
   ]
  },
  {
   "cell_type": "markdown",
   "metadata": {},
   "source": [
    "In order to make this study more meaningful and representative of the entire population more time is needed to create a well thought out series of questions that would allow us to collect as much pertinent data as possible. There were only 70 respondents to the survey and due to our limited ability to distribute it, many of the respondents came from similar backgrounds and life styles. Creating a comprehensive survey that would allow us to gather more data on consumer perception and distribute it to random people across the US would provide far greater insights. These insights would then be given to developers to create an app that would streamline the event experience while providing features that would increase consumer satisfaction as well as business revenues. "
   ]
  }
 ],
 "metadata": {
  "kernelspec": {
   "display_name": "Python 3",
   "language": "python",
   "name": "python3"
  },
  "language_info": {
   "codemirror_mode": {
    "name": "ipython",
    "version": 3
   },
   "file_extension": ".py",
   "mimetype": "text/x-python",
   "name": "python",
   "nbconvert_exporter": "python",
   "pygments_lexer": "ipython3",
   "version": "3.7.5"
  },
  "toc": {
   "base_numbering": 1,
   "nav_menu": {},
   "number_sections": false,
   "sideBar": true,
   "skip_h1_title": true,
   "title_cell": "Table of Contents",
   "title_sidebar": "Contents",
   "toc_cell": true,
   "toc_position": {},
   "toc_section_display": true,
   "toc_window_display": true
  },
  "varInspector": {
   "cols": {
    "lenName": 16,
    "lenType": 16,
    "lenVar": 40
   },
   "kernels_config": {
    "python": {
     "delete_cmd_postfix": "",
     "delete_cmd_prefix": "del ",
     "library": "var_list.py",
     "varRefreshCmd": "print(var_dic_list())"
    },
    "r": {
     "delete_cmd_postfix": ") ",
     "delete_cmd_prefix": "rm(",
     "library": "var_list.r",
     "varRefreshCmd": "cat(var_dic_list()) "
    }
   },
   "types_to_exclude": [
    "module",
    "function",
    "builtin_function_or_method",
    "instance",
    "_Feature"
   ],
   "window_display": false
  }
 },
 "nbformat": 4,
 "nbformat_minor": 4
}

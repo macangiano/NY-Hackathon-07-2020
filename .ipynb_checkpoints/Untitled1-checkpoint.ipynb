{
 "cells": [
  {
   "cell_type": "code",
   "execution_count": null,
   "metadata": {},
   "outputs": [],
   "source": [
    "target = 'how_likely'\n",
    "\n",
    "\n",
    "X = dum_df[rel_features.keys()]\n",
    "y = dum_df[target]\n",
    "\n",
    "X_train, X_test, y_train, y_test = train_test_split(X, y, random_state = RANDOM_STATE,\n",
    "                                                   test_size = 0.25)"
   ]
  },
  {
   "cell_type": "code",
   "execution_count": null,
   "metadata": {},
   "outputs": [],
   "source": [
    "plt.hist(y_train)\n",
    "plt.hist(y_test)\n",
    "plt.title('Distribution of y Train and y Test', size = 14)\n",
    "plt.xlabel('Rating (0-5)', size = 12)\n",
    "plt.ylabel('Frequency (0-5)', size = 12)\n",
    "plt.legend(['Y Train','Y Test'])\n",
    "plt.style.use('fivethirtyeight')\n",
    ";"
   ]
  },
  {
   "cell_type": "code",
   "execution_count": null,
   "metadata": {},
   "outputs": [],
   "source": [
    "## Modeling"
   ]
  },
  {
   "cell_type": "code",
   "execution_count": null,
   "metadata": {},
   "outputs": [],
   "source": [
    "## Modeling\n",
    "\n",
    "logreg = LogisticRegression(random_state= RANDOM_STATE)\n",
    "\n",
    "logreg.fit(X_train, y_train)\n",
    "\n",
    "logreg.score(X_train, y_train)\n",
    "\n",
    "logreg.score(X_test, y_test)\n",
    "\n",
    "pipe = Pipeline(steps=[('sc', StandardScaler()), ('knn',\n",
    "                                                  KNeighborsClassifier())])\n",
    "\n",
    "params = {\n",
    "    'knn__n_neighbors': [3, 5, 7, 9],\n",
    "    'knn__metric': ['minkowski', 'euclidean', 'manhattan'],\n",
    "    'knn__leaf_size' : [20,30,40]\n",
    "}\n",
    "\n",
    "gs_knn = GridSearchCV(pipe, param_grid=params, cv=5, scoring='accuracy')\n",
    "\n",
    "gs_knn.fit(X_train, y_train)\n",
    "\n",
    "gs_knn.best_estimator_\n",
    "\n",
    "gs_knn.score(X_train, y_train)\n",
    "\n",
    "gs_knn.score(X_test, y_test)\n",
    "\n",
    "gs_knn.best_score_\n",
    "\n",
    "### Decision Tree Classifier\n",
    "\n",
    "tree = DecisionTreeClassifier()\n",
    "tree.fit(X_train, y_train)\n",
    "\n",
    "# Training Score\n",
    "tree.score(X_train, y_train)\n",
    "\n",
    "# Test Score\n",
    "tree.score(X_test, y_test)\n",
    "\n",
    "### Bagging Classifier\n",
    "\n",
    "pipe = Pipeline(steps=[('bagging', BaggingClassifier(random_state = RANDOM_STATE))])\n",
    "\n",
    "params = {'bagging__n_estimators': [150, 200, 250],\n",
    "          'bagging__max_features' : [13, 14, 15],\n",
    "          'bagging__max_samples' : [13, 14, 15],\n",
    "          'bagging__bootstrap_features' : [True, False]\n",
    "         }\n",
    "gs_bagging = GridSearchCV(pipe,\n",
    "                              param_grid=params,\n",
    "                              cv=5,\n",
    "                              scoring='accuracy',\n",
    "                              n_jobs=-2)\n",
    "gs_bagging.fit(X_train, y_train)\n",
    "\n",
    "gs_bagging.best_estimator_\n",
    "\n",
    "# Training Score\n",
    "gs_bagging.score(X_train, y_train)\n",
    "\n",
    "# Test Score\n",
    "gs_bagging.score(X_test, y_test)\n",
    "\n",
    "cross_val_score(gs_bagging, X, y, cv = 5).mean()\n",
    "\n",
    "### Random Forest Classifier\n",
    "\n",
    "pipe = Pipeline(steps=[('rand_forest', RandomForestClassifier(random_state = RANDOM_STATE))])\n",
    "\n",
    "params = {'rand_forest__n_estimators': [20, 30, 40 ,50],\n",
    "          'rand_forest__max_depth' : [1, 3, 5],\n",
    "          'rand_forest__min_samples_leaf' : [3, 5, 7],\n",
    "          'rand_forest__min_samples_split' : [2, 4, 6]\n",
    "         }\n",
    "gs_rand_forest = GridSearchCV(pipe,\n",
    "                              param_grid=params,\n",
    "                              cv=5,\n",
    "                              scoring='accuracy',\n",
    "                              n_jobs=-2)\n",
    "gs_rand_forest.fit(X_train, y_train);\n",
    "\n",
    "gs_rand_forest.best_estimator_\n",
    "\n",
    "# Training Score\n",
    "gs_rand_forest.score(X_train, y_train)\n",
    "\n",
    "# Test Score\n",
    "gs_rand_forest.score(X_test, y_test)\n",
    "\n",
    "cross_val_score(gs_rand_forest, X, y, cv = 5).mean()\n",
    "\n",
    "### Extra Trees Classifier\n",
    "\n",
    "pipe = Pipeline(steps=[('extra_trees', ExtraTreesClassifier(random_state = RANDOM_STATE))])\n",
    "\n",
    "params = {'extra_trees__n_estimators': [300, 400, 500, 600],\n",
    "          'extra_trees__max_depth' : [2,5,8],\n",
    "          'extra_trees__min_samples_leaf' : [1,3,5],\n",
    "          'extra_trees__min_samples_split' : [2,4,6]\n",
    "         }\n",
    "gs_extra_trees = GridSearchCV(pipe,\n",
    "                              param_grid=params,\n",
    "                              cv=5,\n",
    "                              scoring='accuracy',\n",
    "                              n_jobs=-2)\n",
    "gs_extra_trees.fit(X_train, y_train);\n",
    "\n",
    "# Best Estimator for GridSearch\n",
    "gs_extra_trees.best_estimator_\n",
    "\n",
    "# Training Score\n",
    "gs_extra_trees.score(X_train, y_train)\n",
    "\n",
    "# Test Score\n",
    "gs_extra_trees.score(X_test, y_test)\n",
    "\n",
    "cross_val_score(gs_extra_trees, X, y, cv = 5).mean()\n",
    "\n",
    "### Voting Classifier\n",
    "\n",
    "knn_pipe = Pipeline([('ss', StandardScaler()),\n",
    "                     ('knn', KNeighborsClassifier())])\n",
    "\n",
    "vote = VotingClassifier([\n",
    "    ('x_tree', ExtraTreesClassifier()),\n",
    "    ('rand_forest', RandomForestClassifier()),\n",
    "    ('knn_pipe', knn_pipe),\n",
    "],\n",
    "                        voting='soft')\n",
    "vote_params = {\n",
    "    'x_tree__max_depth': [None, 4],\n",
    "    'rand_forest__max_depth': [3, 4],\n",
    "    'knn_pipe__knn__n_neighbors': [3, 5, 7],\n",
    "}\n",
    "gs_vc = GridSearchCV(vote,\n",
    "                     param_grid=vote_params,\n",
    "                     cv=5,\n",
    "                     n_jobs=-2,\n",
    "                     scoring='accuracy')\n",
    "gs_vc.fit(X_train, y_train)\n",
    "\n",
    "gs_vc.best_params_\n",
    "\n",
    "# Training Score\n",
    "gs_vc.score(X_train, y_train)\n",
    "\n",
    "# Test Score\n",
    "gs_vc.score(X_test, y_test)\n",
    "\n"
   ]
  },
  {
   "cell_type": "code",
   "execution_count": null,
   "metadata": {},
   "outputs": [],
   "source": []
  },
  {
   "cell_type": "code",
   "execution_count": null,
   "metadata": {},
   "outputs": [],
   "source": []
  },
  {
   "cell_type": "code",
   "execution_count": null,
   "metadata": {},
   "outputs": [],
   "source": []
  },
  {
   "cell_type": "code",
   "execution_count": null,
   "metadata": {},
   "outputs": [],
   "source": []
  },
  {
   "cell_type": "code",
   "execution_count": null,
   "metadata": {},
   "outputs": [],
   "source": []
  },
  {
   "cell_type": "code",
   "execution_count": null,
   "metadata": {},
   "outputs": [],
   "source": []
  },
  {
   "cell_type": "code",
   "execution_count": null,
   "metadata": {},
   "outputs": [],
   "source": []
  },
  {
   "cell_type": "code",
   "execution_count": null,
   "metadata": {},
   "outputs": [],
   "source": []
  },
  {
   "cell_type": "code",
   "execution_count": null,
   "metadata": {},
   "outputs": [],
   "source": []
  },
  {
   "cell_type": "code",
   "execution_count": null,
   "metadata": {},
   "outputs": [],
   "source": []
  },
  {
   "cell_type": "code",
   "execution_count": null,
   "metadata": {},
   "outputs": [],
   "source": []
  },
  {
   "cell_type": "code",
   "execution_count": null,
   "metadata": {},
   "outputs": [],
   "source": []
  },
  {
   "cell_type": "code",
   "execution_count": null,
   "metadata": {},
   "outputs": [],
   "source": []
  },
  {
   "cell_type": "code",
   "execution_count": null,
   "metadata": {},
   "outputs": [],
   "source": []
  },
  {
   "cell_type": "code",
   "execution_count": null,
   "metadata": {},
   "outputs": [],
   "source": []
  },
  {
   "cell_type": "code",
   "execution_count": null,
   "metadata": {},
   "outputs": [],
   "source": []
  },
  {
   "cell_type": "code",
   "execution_count": null,
   "metadata": {},
   "outputs": [],
   "source": []
  },
  {
   "cell_type": "code",
   "execution_count": null,
   "metadata": {},
   "outputs": [],
   "source": []
  },
  {
   "cell_type": "code",
   "execution_count": null,
   "metadata": {},
   "outputs": [],
   "source": []
  },
  {
   "cell_type": "code",
   "execution_count": null,
   "metadata": {},
   "outputs": [],
   "source": []
  },
  {
   "cell_type": "code",
   "execution_count": null,
   "metadata": {},
   "outputs": [],
   "source": []
  }
 ],
 "metadata": {
  "kernelspec": {
   "display_name": "Python 3",
   "language": "python",
   "name": "python3"
  },
  "language_info": {
   "codemirror_mode": {
    "name": "ipython",
    "version": 3
   },
   "file_extension": ".py",
   "mimetype": "text/x-python",
   "name": "python",
   "nbconvert_exporter": "python",
   "pygments_lexer": "ipython3",
   "version": "3.7.5"
  },
  "toc": {
   "base_numbering": 1,
   "nav_menu": {},
   "number_sections": false,
   "sideBar": true,
   "skip_h1_title": false,
   "title_cell": "Table of Contents",
   "title_sidebar": "Contents",
   "toc_cell": false,
   "toc_position": {},
   "toc_section_display": true,
   "toc_window_display": false
  },
  "varInspector": {
   "cols": {
    "lenName": 16,
    "lenType": 16,
    "lenVar": 40
   },
   "kernels_config": {
    "python": {
     "delete_cmd_postfix": "",
     "delete_cmd_prefix": "del ",
     "library": "var_list.py",
     "varRefreshCmd": "print(var_dic_list())"
    },
    "r": {
     "delete_cmd_postfix": ") ",
     "delete_cmd_prefix": "rm(",
     "library": "var_list.r",
     "varRefreshCmd": "cat(var_dic_list()) "
    }
   },
   "types_to_exclude": [
    "module",
    "function",
    "builtin_function_or_method",
    "instance",
    "_Feature"
   ],
   "window_display": false
  }
 },
 "nbformat": 4,
 "nbformat_minor": 4
}
